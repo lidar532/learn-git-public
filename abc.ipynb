{
  "nbformat": 4,
  "nbformat_minor": 0,
  "metadata": {
    "colab": {
      "name": "abc.ipynb",
      "provenance": [],
      "private_outputs": true,
      "authorship_tag": "ABX9TyOvgpLP9yagA/H5ScbMUHCn",
      "include_colab_link": true
    },
    "kernelspec": {
      "name": "python3",
      "display_name": "Python 3"
    }
  },
  "cells": [
    {
      "cell_type": "markdown",
      "metadata": {
        "id": "view-in-github",
        "colab_type": "text"
      },
      "source": [
        "<a href=\"https://colab.research.google.com/github/lidar532/learn-git-public/blob/2020-0222/abc.ipynb\" target=\"_parent\"><img src=\"https://colab.research.google.com/assets/colab-badge.svg\" alt=\"Open In Colab\"/></a>"
      ]
    },
    {
      "cell_type": "markdown",
      "metadata": {
        "id": "X5fRtGq32Rk6",
        "colab_type": "text"
      },
      "source": [
        "# Example Defs\n",
        "\n"
      ]
    },
    {
      "cell_type": "code",
      "metadata": {
        "id": "qbtBc5yy4V6c",
        "colab_type": "code",
        "colab": {}
      },
      "source": [
        ""
      ],
      "execution_count": 0,
      "outputs": []
    },
    {
      "cell_type": "code",
      "metadata": {
        "id": "VbPC9orE1xv3",
        "colab_type": "code",
        "colab": {}
      },
      "source": [
        "def a():\n",
        "  print('a')\n",
        "\n",
        "def b():\n",
        "  print('b')\n",
        "\n",
        "def c():\n",
        "  print('c')\n",
        "\n"
      ],
      "execution_count": 0,
      "outputs": []
    },
    {
      "cell_type": "code",
      "metadata": {
        "id": "SRyyqB-P4T93",
        "colab_type": "code",
        "colab": {}
      },
      "source": [
        "\n",
        "if __name__ != \"__main__\":\n",
        "  print('abc defs loaded as module.')\n",
        "else:\n",
        "  print('abc run as main')"
      ],
      "execution_count": 0,
      "outputs": []
    }
  ]
}