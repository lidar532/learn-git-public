{
  "nbformat": 4,
  "nbformat_minor": 0,
  "metadata": {
    "kernelspec": {
      "display_name": "Python 3",
      "language": "python",
      "name": "python3"
    },
    "language_info": {
      "codemirror_mode": {
        "name": "ipython",
        "version": 3
      },
      "file_extension": ".py",
      "mimetype": "text/x-python",
      "name": "python",
      "nbconvert_exporter": "python",
      "pygments_lexer": "ipython3",
      "version": "3.5.5"
    },
    "colab": {
      "name": "example-ww-github.ipynb",
      "provenance": []
    }
  },
  "cells": [
    {
      "cell_type": "markdown",
      "metadata": {
        "id": "I-hIlTjCrrQb",
        "colab_type": "text"
      },
      "source": [
        "[![Open In Colab](https://colab.research.google.com/assets/colab-badge.svg)](https://colab.research.google.com/github/lidar532/learn-git-public/blob/master/example-ww-github.ipynb)\n",
        "Added this cell 2020-0222\n",
        "\n",
        "\n",
        "dfkldfkld\n",
        "\n",
        "\n",
        "\n"
      ]
    },
    {
      "cell_type": "code",
      "metadata": {
        "scrolled": true,
        "id": "8tFPAcxtrpbe",
        "colab_type": "code",
        "colab": {
          "base_uri": "https://localhost:8080/",
          "height": 68
        },
        "outputId": "cc157a04-fc83-48bb-833d-69b34b457206"
      },
      "source": [
        "print(\"Hello xxxxxxxxx   e !!!!\")\n",
        "print('added another line to the program')\n",
        "print('This just added on 2018-1104 by W.W. as a test')\n",
        "\n",
        "try: \n",
        "    i\n",
        "except NameError:\n",
        "    i = 2;\n",
        "\n",
        "\n",
        "\n"
      ],
      "execution_count": 1,
      "outputs": [
        {
          "output_type": "stream",
          "text": [
            "Hello xxxxxxxxx   e !!!!\n",
            "added another line to the program\n",
            "This just added on 2018-1104 by W.W. as a test\n"
          ],
          "name": "stdout"
        }
      ]
    },
    {
      "cell_type": "code",
      "metadata": {
        "id": "19E-eV-Erpbs",
        "colab_type": "code",
        "colab": {},
        "outputId": "62333406-5a71-48aa-97e5-3556953e002c"
      },
      "source": [
        "if 'i' in locals():\n",
        "    print('i exits as local', i)\n",
        "    \n",
        "if 'i' in globals():\n",
        "    print('i exits as global', i)"
      ],
      "execution_count": 0,
      "outputs": [
        {
          "output_type": "stream",
          "text": [
            "i exits as local 2\n",
            "i exits as global 2\n"
          ],
          "name": "stdout"
        }
      ]
    },
    {
      "cell_type": "markdown",
      "metadata": {
        "id": "UnQQP1VBrpb0",
        "colab_type": "text"
      },
      "source": [
        "# 2018-1104-10:07 This added from the tampa-desktop machine.\n",
        "\n",
        "## Added this from Laptop-ww"
      ]
    }
  ]
}