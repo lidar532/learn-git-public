{
 "cells": [
  {
   "cell_type": "code",
   "execution_count": 3,
   "metadata": {},
   "outputs": [
    {
     "name": "stdout",
     "output_type": "stream",
     "text": [
      "Hello xxxxxxxxx   e !!!!\n",
      "added another line to the program\n",
      "This just added on 2018-1104 by W.W. as a test\n"
     ]
    }
   ],
   "source": [
    "print(\"Hello xxxxxxxxx   e !!!!\")\n",
    "print('added another line to the program')\n",
    "print('This just added on 2018-1104 by W.W. as a test')\n"
   ]
  },
  {
   "cell_type": "markdown",
   "metadata": {},
   "source": [
    "# 2018-1104-10:07 This added from the tampa-desktop machine."
   ]
  }
 ],
 "metadata": {
  "kernelspec": {
   "display_name": "Python 3",
   "language": "python",
   "name": "python3"
  },
  "language_info": {
   "codemirror_mode": {
    "name": "ipython",
    "version": 3
   },
   "file_extension": ".py",
   "mimetype": "text/x-python",
   "name": "python",
   "nbconvert_exporter": "python",
   "pygments_lexer": "ipython3",
   "version": "3.6.6"
  }
 },
 "nbformat": 4,
 "nbformat_minor": 2
}
