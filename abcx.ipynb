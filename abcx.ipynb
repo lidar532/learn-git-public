{
  "nbformat": 4,
  "nbformat_minor": 0,
  "metadata": {
    "colab": {
      "name": "abcx.ipynb",
      "provenance": [],
      "private_outputs": true,
      "authorship_tag": "ABX9TyNAvHUxgcPzpgnL/5fiq3m4",
      "include_colab_link": true
    },
    "kernelspec": {
      "name": "python3",
      "display_name": "Python 3"
    }
  },
  "cells": [
    {
      "cell_type": "markdown",
      "metadata": {
        "id": "view-in-github",
        "colab_type": "text"
      },
      "source": [
        "<a href=\"https://colab.research.google.com/github/lidar532/learn-git-public/blob/2020-0222/abcx.ipynb\" target=\"_parent\"><img src=\"https://colab.research.google.com/assets/colab-badge.svg\" alt=\"Open In Colab\"/></a>"
      ]
    },
    {
      "cell_type": "markdown",
      "metadata": {
        "id": "X5fRtGq32Rk6",
        "colab_type": "text"
      },
      "source": [
        "# Example Defs\n",
        "\n"
      ]
    },
    {
      "cell_type": "code",
      "metadata": {
        "id": "qbtBc5yy4V6c",
        "colab_type": "code",
        "colab": {}
      },
      "source": [
        ""
      ],
      "execution_count": 0,
      "outputs": []
    },
    {
      "cell_type": "code",
      "metadata": {
        "id": "VbPC9orE1xv3",
        "colab_type": "code",
        "colab": {}
      },
      "source": [
        "def a():\n",
        "  print('from a')\n",
        "\n",
        "def b():\n",
        "  print('from b')\n",
        "\n",
        "def c():\n",
        "  print('from c')\n",
        "\n"
      ],
      "execution_count": 0,
      "outputs": []
    },
    {
      "cell_type": "code",
      "metadata": {
        "id": "SRyyqB-P4T93",
        "colab_type": "code",
        "colab": {}
      },
      "source": [
        "\n",
        "if __name__ != \"__main__\":\n",
        "  print('abcx defs loaded as module.')\n",
        "else:\n",
        "  print('abcx run as main')\n",
        "  a()\n",
        "  b()\n",
        "  c()"
      ],
      "execution_count": 0,
      "outputs": []
    }
  ]
}